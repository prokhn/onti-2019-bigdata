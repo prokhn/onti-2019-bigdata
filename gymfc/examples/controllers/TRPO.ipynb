{
 "cells": [
  {
   "cell_type": "code",
   "execution_count": 1,
   "metadata": {},
   "outputs": [
    {
     "name": "stdout",
     "output_type": "stream",
     "text": [
      "Starting gzserver with process ID= 9315\n",
      "Done\n"
     ]
    }
   ],
   "source": [
    "import os\n",
    "import gym\n",
    "# import roboschool\n",
    "import gymfc\n",
    "from stable_baselines.bench import Monitor\n",
    "from stable_baselines.results_plotter import load_results, ts2xy\n",
    "from stable_baselines.common.policies import MlpPolicy, MlpLstmPolicy, MlpLnLstmPolicy\n",
    "from stable_baselines.sac import MlpPolicy as MlpPolicySAC\n",
    "from stable_baselines.common.vec_env import SubprocVecEnv, DummyVecEnv\n",
    "from stable_baselines import ACKTR\n",
    "from stable_baselines import PPO2\n",
    "from stable_baselines import PPO1\n",
    "from stable_baselines import SAC\n",
    "from stable_baselines import TRPO\n",
    "\n",
    "\n",
    "import nest_asyncio\n",
    "nest_asyncio.apply()\n",
    "\n",
    "current_dir = os.getcwd()\n",
    "config_path = os.path.join(current_dir, \"../configs/iris.config\")\n",
    "os.environ[\"GYMFC_CONFIG\"] = config_path\n",
    "\n",
    "env = gym.make('AttFC_GyroErr-MotorVel_M4_Con-v0')\n",
    "# env = gym.make('CartPole-v1')\n",
    "env = Monitor(env, '', allow_early_resets=True)\n",
    "# env = DummyVecEnv([lambda: env])\n",
    "\n",
    "\n",
    "# model = SAC(MlpPolicySAC, env, verbose=1)\n",
    "model = TRPO(MlpPolicy, env, verbose=0)\n",
    "\n",
    "model.learn(total_timesteps=50000)\n",
    "print('Done')\n",
    "model.save(\"TRPO_model\")"
   ]
  },
  {
   "cell_type": "code",
   "execution_count": 2,
   "metadata": {},
   "outputs": [
    {
     "data": {
      "application/vnd.jupyter.widget-view+json": {
       "model_id": "bd605b30319c45eeb5b2ca2ab73ffac2",
       "version_major": 2,
       "version_minor": 0
      },
      "text/plain": [
       "HBox(children=(IntProgress(value=0, max=1000), HTML(value='')))"
      ]
     },
     "metadata": {},
     "output_type": "display_data"
    },
    {
     "name": "stdout",
     "output_type": "stream",
     "text": [
      "\n"
     ]
    },
    {
     "ename": "IndexError",
     "evalue": "invalid index to scalar variable.",
     "output_type": "error",
     "traceback": [
      "\u001b[0;31m---------------------------------------------------------------------------\u001b[0m",
      "\u001b[0;31mIndexError\u001b[0m                                Traceback (most recent call last)",
      "\u001b[0;32m<ipython-input-2-2771d45fe9b4>\u001b[0m in \u001b[0;36m<module>\u001b[0;34m\u001b[0m\n\u001b[1;32m     11\u001b[0m     \u001b[0maction\u001b[0m\u001b[0;34m,\u001b[0m \u001b[0m_states\u001b[0m \u001b[0;34m=\u001b[0m \u001b[0mmodel\u001b[0m\u001b[0;34m.\u001b[0m\u001b[0mpredict\u001b[0m\u001b[0;34m(\u001b[0m\u001b[0mobs\u001b[0m\u001b[0;34m)\u001b[0m\u001b[0;34m\u001b[0m\u001b[0m\n\u001b[1;32m     12\u001b[0m     \u001b[0mobs\u001b[0m\u001b[0;34m,\u001b[0m \u001b[0mrewards\u001b[0m\u001b[0;34m,\u001b[0m \u001b[0mdones\u001b[0m\u001b[0;34m,\u001b[0m \u001b[0minfo\u001b[0m \u001b[0;34m=\u001b[0m \u001b[0menv\u001b[0m\u001b[0;34m.\u001b[0m\u001b[0mstep\u001b[0m\u001b[0;34m(\u001b[0m\u001b[0maction\u001b[0m\u001b[0;34m)\u001b[0m\u001b[0;34m\u001b[0m\u001b[0m\n\u001b[0;32m---> 13\u001b[0;31m     \u001b[0mrewards_list\u001b[0m\u001b[0;34m.\u001b[0m\u001b[0mappend\u001b[0m\u001b[0;34m(\u001b[0m\u001b[0mrewards\u001b[0m\u001b[0;34m[\u001b[0m\u001b[0;36m0\u001b[0m\u001b[0;34m]\u001b[0m\u001b[0;34m)\u001b[0m\u001b[0;34m\u001b[0m\u001b[0m\n\u001b[0m\u001b[1;32m     14\u001b[0m     \u001b[0mt\u001b[0m \u001b[0;34m+=\u001b[0m \u001b[0;36m1\u001b[0m\u001b[0;34m\u001b[0m\u001b[0m\n\u001b[1;32m     15\u001b[0m     \u001b[0;32mif\u001b[0m \u001b[0mdones\u001b[0m\u001b[0;34m:\u001b[0m\u001b[0;34m\u001b[0m\u001b[0m\n",
      "\u001b[0;31mIndexError\u001b[0m: invalid index to scalar variable."
     ]
    }
   ],
   "source": [
    "from tqdm import tqdm_notebook as tqdm\n",
    "actuals = []\n",
    "desireds = []\n",
    "obs = env.reset()\n",
    "rewards_list = []\n",
    "t = 0\n",
    "for i in tqdm(range(1000)):\n",
    "#         actuals.append(env.omega_actual)\n",
    "#         desireds.append(env.omega_target)\n",
    "\n",
    "    action, _states = model.predict(obs)\n",
    "    obs, rewards, dones, info = env.step(action)\n",
    "    rewards_list.append(rewards[0])\n",
    "    t += 1\n",
    "    if dones:\n",
    "        break\n",
    "#         env.render()\n",
    "print('Mean rewards:', sum(rewards_list) / len(rewards_list))"
   ]
  },
  {
   "cell_type": "code",
   "execution_count": null,
   "metadata": {},
   "outputs": [],
   "source": [
    "from tqdm import tqdm_notebook as tqdm\n",
    "actuals = []\n",
    "desireds = []\n",
    "obs = env.reset()\n",
    "rewards_list = []\n",
    "t = 0\n",
    "for i in tqdm(range(1000)):\n",
    "#         actuals.append(env.omega_actual)\n",
    "#         desireds.append(env.omega_target)\n",
    "\n",
    "#     action, _states = model.predict(obs)\n",
    "    action = env.action_space.sample()\n",
    "#     obs, rewards, dones, info = env.step([0., 0., 0., 0.])\n",
    "    obs, rewards, dones, info = env.step(action)\n",
    "\n",
    "    rewards_list.append(rewards[0])\n",
    "    t += 1\n",
    "    if dones:\n",
    "        break\n",
    "#         env.render()\n",
    "print('Mean rewards:', sum(rewards_list) / len(rewards_list))"
   ]
  },
  {
   "cell_type": "code",
   "execution_count": null,
   "metadata": {},
   "outputs": [],
   "source": []
  }
 ],
 "metadata": {
  "kernelspec": {
   "display_name": "Python 3",
   "language": "python",
   "name": "python3"
  }
 },
 "nbformat": 4,
 "nbformat_minor": 2
}
