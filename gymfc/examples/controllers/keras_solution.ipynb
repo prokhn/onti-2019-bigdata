{
 "cells": [
  {
   "cell_type": "code",
   "execution_count": null,
   "metadata": {},
   "outputs": [],
   "source": [
    "import os\n",
    "import gymfc\n",
    "import gym\n",
    "from tensorflow.python.keras.layers import Input, Dense, Activation\n",
    "from drlbox.trainer import make_trainer\n",
    "import nest_asyncio\n",
    "nest_asyncio.apply()\n",
    "\n",
    "class RewScale(gym.RewardWrapper):\n",
    "    def __init__(self, env, scale):\n",
    "        gym.RewardWrapper.__init__(self, env)\n",
    "        self.scale = scale\n",
    "\n",
    "    def reward(self, r):\n",
    "        return r * self.scale\n",
    "    \n",
    "'''\n",
    "Input arguments:\n",
    "    observation_space: Observation space of the environment;\n",
    "    num_hid_list:      List of hidden unit numbers in the fully-connected net.\n",
    "'''\n",
    "def make_feature(observation_space, num_hid_list):\n",
    "    inp_state = Input(shape=observation_space.shape)\n",
    "    feature = inp_state\n",
    "    for num_hid in num_hid_list:\n",
    "        feature = Dense(num_hid)(feature)\n",
    "        feature = Activation('relu')(feature)\n",
    "    return inp_state, feature\n",
    "\n",
    "\n",
    "if __name__ == '__main__':\n",
    "    current_dir = os.getcwd()\n",
    "    config_path = os.path.join(current_dir, \"../configs/iris.config\")\n",
    "    os.environ[\"GYMFC_CONFIG\"] = config_path\n",
    "    env = gym.make('AttFC_GyroErr-MotorVel_M4_Con-v0')\n",
    "#     env = RewScale(env, 0.1)\n",
    "    trainer = make_trainer(\n",
    "        port_begin=3333,\n",
    "        algorithm='dqn',\n",
    "        online_learning=False,\n",
    "        env_maker=lambda: env,\n",
    "        feature_maker=lambda obs_space: make_feature(obs_space, [64, 128, 64]),\n",
    "        train_steps=1000,\n",
    "        verbose=True,\n",
    "        )\n",
    "    trainer.run()\n"
   ]
  },
  {
   "cell_type": "code",
   "execution_count": null,
   "metadata": {},
   "outputs": [],
   "source": []
  }
 ],
 "metadata": {
  "kernelspec": {
   "display_name": "Python 3",
   "language": "python",
   "name": "python3"
  },
  "language_info": {
   "codemirror_mode": {
    "name": "ipython",
    "version": 3
   },
   "file_extension": ".py",
   "mimetype": "text/x-python",
   "name": "python",
   "nbconvert_exporter": "python",
   "pygments_lexer": "ipython3",
   "version": "3.5.2"
  }
 },
 "nbformat": 4,
 "nbformat_minor": 2
}
