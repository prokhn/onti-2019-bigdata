{
 "cells": [
  {
   "cell_type": "code",
   "execution_count": 2,
   "metadata": {},
   "outputs": [
    {
     "name": "stderr",
     "output_type": "stream",
     "text": [
      "Using TensorFlow backend.\n"
     ]
    }
   ],
   "source": [
    "import keras\n",
    "import pandas as pd\n",
    "import os\n",
    "import tensorflow as tf\n",
    "from keras.callbacks import ModelCheckpoint, EarlyStopping\n",
    "from keras.models import Sequential, Model\n",
    "from keras.layers import Dense, InputLayer, Input\n",
    "import keras.backend as K\n",
    "\n",
    "from sklearn.model_selection import KFold\n",
    "from sklearn.model_selection import train_test_split\n",
    "\n",
    "\n",
    "def custom_loss(layer):\n",
    "    def loss(y_true,y_pred):\n",
    "        return K.mean(K.mean(K.square(y_pred - y_true)) + K.square(layer), axis=-1)\n",
    "    return loss\n",
    "\n",
    "model = Sequential()\n",
    "model.add(Dense(3))\n",
    "model.add(Dense(16, activation='relu'))\n",
    "model.add(Dense(32, activation='relu'))\n",
    "model.add(Dense(16, activation='relu'))\n",
    "model.add(Dense(4))\n",
    "\n",
    "# inputs = Input(shape=(3,))\n",
    "# layer1 = Dense(16, activation='relu')(inputs)\n",
    "# layer2 = Dense(32, activation='relu')(layer1)\n",
    "# predictions = Dense(4)(layer2)\n",
    "# model = Model(inputs=inputs, outputs=predictions)\n",
    "\n",
    "# f = custom_loss(inputs)\n",
    "model.compile(loss='mse', optimizer='SGD', metrics=['mse'])\n"
   ]
  },
  {
   "cell_type": "code",
   "execution_count": 5,
   "metadata": {},
   "outputs": [
    {
     "name": "stdout",
     "output_type": "stream",
     "text": [
      "Train on 300869 samples, validate on 75218 samples\n",
      "Epoch 1/1\n",
      "300869/300869 [==============================] - 9s 30us/step - loss: 0.1028 - mean_squared_error: 0.1028 - val_loss: 0.1051 - val_mean_squared_error: 0.1051\n"
     ]
    },
    {
     "data": {
      "text/plain": [
       "<keras.callbacks.History at 0x7f3a2cb3d780>"
      ]
     },
     "execution_count": 5,
     "metadata": {},
     "output_type": "execute_result"
    }
   ],
   "source": [
    "dir_path = '../../../experiments_prokhn/controllers/mined'\n",
    "data = []\n",
    "for file_name in [i for i in os.listdir(dir_path) if '.csv' in i]:\n",
    "    _data = pd.read_csv(os.path.join(dir_path, file_name), sep=';', engine='python')\n",
    "    _data.columns = ['delta1', 'delta2', 'delta3', 'v1', 'v2', 'v3', 'v4']\n",
    "    data.append(_data)\n",
    "data = pd.concat(data, axis=0)\n",
    "\n",
    "columns = [column for column in data.columns if 'delta' in column]\n",
    "x = data[columns].values\n",
    "y = data.drop(columns, axis=1).values\n",
    "model.fit(x, y, batch_size=64, epochs=1, validation_split=0.2, shuffle=True, \n",
    "              callbacks=[ModelCheckpoint('model.hd5', save_best_only=True), \n",
    "                         EarlyStopping(monitor='val_loss', min_delta=0.0001, patience=20)])\n",
    "# print(y)\n",
    "# print(x)"
   ]
  },
  {
   "cell_type": "code",
   "execution_count": 15,
   "metadata": {},
   "outputs": [
    {
     "data": {
      "text/plain": [
       "array([[-0.49023592, -0.7977226 ,  0.57501256, -0.05241978]],\n",
       "      dtype=float32)"
      ]
     },
     "execution_count": 15,
     "metadata": {},
     "output_type": "execute_result"
    }
   ],
   "source": [
    "import numpy as np\n",
    "model.predict(np.array([[1, 1, 1]]))"
   ]
  },
  {
   "cell_type": "code",
   "execution_count": 12,
   "metadata": {},
   "outputs": [
    {
     "name": "stdout",
     "output_type": "stream",
     "text": [
      "[[ 5.77928356 -0.35792363 -4.69759168]\n",
      " [ 5.77928356 -0.35792363 -4.69759168]\n",
      " [ 5.77928356 -0.35792354 -4.66568829]\n",
      " ...\n",
      " [-0.15792131 -0.07633683 -0.03132203]\n",
      " [-0.23942485 -0.07045121 -0.13129343]\n",
      " [-0.31451967 -0.06069233 -0.14728781]]\n"
     ]
    }
   ],
   "source": [
    "print(x)"
   ]
  },
  {
   "cell_type": "code",
   "execution_count": null,
   "metadata": {},
   "outputs": [],
   "source": []
  }
 ],
 "metadata": {
  "kernelspec": {
   "display_name": "Python 3",
   "language": "python",
   "name": "python3"
  },
  "language_info": {
   "codemirror_mode": {
    "name": "ipython",
    "version": 3
   },
   "file_extension": ".py",
   "mimetype": "text/x-python",
   "name": "python",
   "nbconvert_exporter": "python",
   "pygments_lexer": "ipython3",
   "version": "3.5.2"
  }
 },
 "nbformat": 4,
 "nbformat_minor": 2
}
